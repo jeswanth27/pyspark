{
 "cells": [
  {
   "cell_type": "code",
   "execution_count": 1,
   "id": "8b36ce3b",
   "metadata": {},
   "outputs": [],
   "source": [
    "from pyspark.sql import SparkSession\n",
    "import getpass\n",
    "username = getpass.getuser()\n",
    "spark = SparkSession. \\\n",
    "builder. \\\n",
    "config('spark.ui.port', '0'). \\\n",
    "config(\"spark.sql.warehouse.dir\", f\"/user/{username}/warehouse\"). \\\n",
    "appName(\"Spark\").\\\n",
    "enableHiveSupport(). \\\n",
    "master('yarn'). \\\n",
    "getOrCreate()"
   ]
  },
  {
   "cell_type": "code",
   "execution_count": 2,
   "id": "984fec53",
   "metadata": {},
   "outputs": [
    {
     "data": {
      "text/html": [
       "\n",
       "            <div>\n",
       "                <p><b>SparkSession - hive</b></p>\n",
       "                \n",
       "        <div>\n",
       "            <p><b>SparkContext</b></p>\n",
       "\n",
       "            <p><a href=\"http://g02.itversity.com:40381\">Spark UI</a></p>\n",
       "\n",
       "            <dl>\n",
       "              <dt>Version</dt>\n",
       "                <dd><code>v3.1.2</code></dd>\n",
       "              <dt>Master</dt>\n",
       "                <dd><code>yarn</code></dd>\n",
       "              <dt>AppName</dt>\n",
       "                <dd><code>Spark</code></dd>\n",
       "            </dl>\n",
       "        </div>\n",
       "        \n",
       "            </div>\n",
       "        "
      ],
      "text/plain": [
       "<pyspark.sql.session.SparkSession at 0x7f1c3d042588>"
      ]
     },
     "execution_count": 2,
     "metadata": {},
     "output_type": "execute_result"
    }
   ],
   "source": [
    "spark"
   ]
  },
  {
   "cell_type": "code",
   "execution_count": 3,
   "id": "3d85f634",
   "metadata": {},
   "outputs": [
    {
     "name": "stdout",
     "output_type": "stream",
     "text": [
      "+---+----------------------+\n",
      "|id |message               |\n",
      "+---+----------------------+\n",
      "|1  |I love to play cricket|\n",
      "|2  |I am into motorbiking |\n",
      "|3  |What do you like      |\n",
      "+---+----------------------+\n",
      "\n"
     ]
    }
   ],
   "source": [
    "data = [(1,'I love to play cricket',),(2,'I am into motorbiking',),(3,'What do you like',)]\n",
    "schema = [\"id\", \"message\"]\n",
    "df = spark.createDataFrame(data = data , schema = schema)\n",
    "df.show(truncate=  False)"
   ]
  },
  {
   "cell_type": "code",
   "execution_count": 4,
   "id": "eddf04f6",
   "metadata": {},
   "outputs": [],
   "source": [
    "from pyspark.sql.functions import *"
   ]
  },
  {
   "cell_type": "code",
   "execution_count": 6,
   "id": "f4ffe220",
   "metadata": {},
   "outputs": [],
   "source": [
    "lower_df=df.withColumn(\"lower_constants\",lower(col(\"message\")))"
   ]
  },
  {
   "cell_type": "code",
   "execution_count": 8,
   "id": "3de13799",
   "metadata": {},
   "outputs": [
    {
     "name": "stdout",
     "output_type": "stream",
     "text": [
      "+---+----------------------+----------------------+\n",
      "|id |message               |lower_constants       |\n",
      "+---+----------------------+----------------------+\n",
      "|1  |I love to play cricket|i love to play cricket|\n",
      "|2  |I am into motorbiking |i am into motorbiking |\n",
      "|3  |What do you like      |what do you like      |\n",
      "+---+----------------------+----------------------+\n",
      "\n"
     ]
    }
   ],
   "source": [
    "lower_df.show(truncate=False)"
   ]
  },
  {
   "cell_type": "code",
   "execution_count": 12,
   "id": "11f8a4ef",
   "metadata": {},
   "outputs": [
    {
     "name": "stdout",
     "output_type": "stream",
     "text": [
      "+---+----------------------+----------------------+-------------+\n",
      "|id |message               |lower_constants       |regex_message|\n",
      "+---+----------------------+----------------------+-------------+\n",
      "|1  |I love to play cricket|i love to play cricket|lvtplycrckt  |\n",
      "|2  |I am into motorbiking |i am into motorbiking |mntmtrbkng   |\n",
      "|3  |What do you like      |what do you like      |whtdylk      |\n",
      "+---+----------------------+----------------------+-------------+\n",
      "\n"
     ]
    }
   ],
   "source": [
    "regex_df=lower_df.withColumn(\"regex_message\",regexp_replace(col(\"lower_constants\"),\"a|e|i|o|u|\\s\",\"\"))\n",
    "regex_df.show(truncate=False)"
   ]
  },
  {
   "cell_type": "code",
   "execution_count": 17,
   "id": "412e9166",
   "metadata": {},
   "outputs": [],
   "source": [
    "drop_df=regex_df.drop(\"message\",\"lower_constants\")"
   ]
  },
  {
   "cell_type": "code",
   "execution_count": 18,
   "id": "23165265",
   "metadata": {},
   "outputs": [
    {
     "name": "stdout",
     "output_type": "stream",
     "text": [
      "+---+-------------+\n",
      "| id|regex_message|\n",
      "+---+-------------+\n",
      "|  1|  lvtplycrckt|\n",
      "|  2|   mntmtrbkng|\n",
      "|  3|      whtdylk|\n",
      "+---+-------------+\n",
      "\n"
     ]
    }
   ],
   "source": [
    "drop_df.show()"
   ]
  },
  {
   "cell_type": "code",
   "execution_count": 19,
   "id": "c766a405",
   "metadata": {},
   "outputs": [],
   "source": [
    "result_df=drop_df.withColumn(\"columnCount\",length(col(\"regex_message\")))"
   ]
  },
  {
   "cell_type": "code",
   "execution_count": 20,
   "id": "3aea9ec4",
   "metadata": {},
   "outputs": [
    {
     "name": "stdout",
     "output_type": "stream",
     "text": [
      "+---+-------------+-----------+\n",
      "| id|regex_message|columnCount|\n",
      "+---+-------------+-----------+\n",
      "|  1|  lvtplycrckt|         11|\n",
      "|  2|   mntmtrbkng|         10|\n",
      "|  3|      whtdylk|          7|\n",
      "+---+-------------+-----------+\n",
      "\n"
     ]
    }
   ],
   "source": [
    "result_df.show()"
   ]
  },
  {
   "cell_type": "code",
   "execution_count": 21,
   "id": "28c32b0e",
   "metadata": {},
   "outputs": [],
   "source": [
    "spark.stop()"
   ]
  },
  {
   "cell_type": "code",
   "execution_count": null,
   "id": "d49be1fe",
   "metadata": {},
   "outputs": [],
   "source": []
  }
 ],
 "metadata": {
  "kernelspec": {
   "display_name": "Pyspark 3",
   "language": "python",
   "name": "pyspark3"
  },
  "language_info": {
   "codemirror_mode": {
    "name": "ipython",
    "version": 3
   },
   "file_extension": ".py",
   "mimetype": "text/x-python",
   "name": "python",
   "nbconvert_exporter": "python",
   "pygments_lexer": "ipython3",
   "version": "3.6.12"
  }
 },
 "nbformat": 4,
 "nbformat_minor": 5
}
